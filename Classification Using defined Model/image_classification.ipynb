{
  "nbformat": 4,
  "nbformat_minor": 0,
  "metadata": {
    "colab": {
      "name": "image classification.ipynb",
      "version": "0.3.2",
      "provenance": []
    },
    "kernelspec": {
      "name": "python3",
      "display_name": "Python 3"
    },
    "accelerator": "GPU"
  },
  "cells": [
    {
      "metadata": {
        "id": "4fR1UCkc5Kvq",
        "colab_type": "code",
        "colab": {}
      },
      "cell_type": "code",
      "source": [
        "from scipy.misc import imread\n",
        "import numpy as np\n",
        "import pandas as pd\n",
        "import os\n",
        "import keras\n",
        "from keras.preprocessing.image import ImageDataGenerator\n",
        "from keras.models import Sequential\n",
        "from keras.layers import Conv2D,MaxPooling2D,Flatten,Activation,BatchNormalization, Dense\n",
        "from keras.optimizers import Adam,SGD"
      ],
      "execution_count": 0,
      "outputs": []
    },
    {
      "metadata": {
        "id": "7Kx6jmBV5eM9",
        "colab_type": "code",
        "outputId": "6f6e2dea-d397-449f-9859-c97f53550567",
        "colab": {
          "base_uri": "https://localhost:8080/",
          "height": 124
        }
      },
      "cell_type": "code",
      "source": [
        "from google.colab import drive\n",
        "\n",
        "# This will prompt for authorization.\n",
        "drive.mount('/content/drive')"
      ],
      "execution_count": 0,
      "outputs": [
        {
          "output_type": "stream",
          "text": [
            "Go to this URL in a browser: https://accounts.google.com/o/oauth2/auth?client_id=947318989803-6bn6qk8qdgf4n4g3pfee6491hc0brc4i.apps.googleusercontent.com&redirect_uri=urn%3Aietf%3Awg%3Aoauth%3A2.0%3Aoob&scope=email%20https%3A%2F%2Fwww.googleapis.com%2Fauth%2Fdocs.test%20https%3A%2F%2Fwww.googleapis.com%2Fauth%2Fdrive%20https%3A%2F%2Fwww.googleapis.com%2Fauth%2Fdrive.photos.readonly%20https%3A%2F%2Fwww.googleapis.com%2Fauth%2Fpeopleapi.readonly&response_type=code\n",
            "\n",
            "Enter your authorization code:\n",
            "··········\n",
            "Mounted at /content/drive\n"
          ],
          "name": "stdout"
        }
      ]
    },
    {
      "metadata": {
        "id": "J6etNzjq9cCV",
        "colab_type": "code",
        "outputId": "3563d623-7786-4de4-bdcc-562c3e297997",
        "colab": {
          "base_uri": "https://localhost:8080/",
          "height": 34
        }
      },
      "cell_type": "code",
      "source": [
        "\n",
        "datagen=ImageDataGenerator()\n",
        "img=datagen.flow_from_directory('drive/My Drive/train1')"
      ],
      "execution_count": 0,
      "outputs": [
        {
          "output_type": "stream",
          "text": [
            "Found 3005 images belonging to 3 classes.\n"
          ],
          "name": "stdout"
        }
      ]
    },
    {
      "metadata": {
        "id": "xTFtD-dP9rsJ",
        "colab_type": "code",
        "outputId": "c729c2d8-bc87-495b-cffc-876d0598de0e",
        "colab": {
          "base_uri": "https://localhost:8080/",
          "height": 34
        }
      },
      "cell_type": "code",
      "source": [
        "\n",
        "img_test=datagen.flow_from_directory('drive/My Drive/test')"
      ],
      "execution_count": 0,
      "outputs": [
        {
          "output_type": "stream",
          "text": [
            "Found 150 images belonging to 3 classes.\n"
          ],
          "name": "stdout"
        }
      ]
    },
    {
      "metadata": {
        "id": "CG6y4S6O9z39",
        "colab_type": "code",
        "colab": {}
      },
      "cell_type": "code",
      "source": [
        "model=Sequential()\n",
        "model.add(Conv2D(16,3, activation='relu',input_shape=(256,256,3)))\n",
        "model.add(Conv2D(32,3, activation='relu'))\n",
        "model.add(Conv2D(32,3, activation='relu'))\n",
        "model.add(MaxPooling2D(pool_size=(2,2)))\n",
        "model.add(BatchNormalization())\n",
        "model.add(Conv2D(48,3, activation='relu'))\n",
        "model.add(Conv2D(48,3, activation='relu'))\n",
        "model.add(MaxPooling2D(pool_size=(2,2)))\n",
        "model.add(BatchNormalization())\n",
        "model.add(Conv2D(64,3, activation='relu'))\n",
        "model.add(Conv2D(64,3, activation='relu'))\n",
        "model.add(MaxPooling2D(pool_size=(2,2)))\n",
        "model.add(BatchNormalization())\n",
        "model.add(Conv2D(72,3, activation='relu'))\n",
        "model.add(Conv2D(72,3, activation='relu'))\n",
        "model.add(MaxPooling2D(pool_size=(2,2)))\n",
        "model.add(Conv2D(72,3, activation='relu'))\n",
        "model.add(Conv2D(72,3, activation='relu'))\n",
        "model.add(Conv2D(80,3, activation='relu'))\n",
        "model.add(Conv2D(3,6))\n",
        "model.add(Flatten())\n",
        "model.add(Activation('softmax'))\n"
      ],
      "execution_count": 0,
      "outputs": []
    },
    {
      "metadata": {
        "id": "YwpP6l3g93H6",
        "colab_type": "code",
        "outputId": "f5f18e5f-64e2-4f2f-ff56-692f32d0f055",
        "colab": {
          "base_uri": "https://localhost:8080/",
          "height": 874
        }
      },
      "cell_type": "code",
      "source": [
        "model.summary()"
      ],
      "execution_count": 0,
      "outputs": [
        {
          "output_type": "stream",
          "text": [
            "_________________________________________________________________\n",
            "Layer (type)                 Output Shape              Param #   \n",
            "=================================================================\n",
            "conv2d_27 (Conv2D)           (None, 254, 254, 16)      448       \n",
            "_________________________________________________________________\n",
            "conv2d_28 (Conv2D)           (None, 252, 252, 32)      4640      \n",
            "_________________________________________________________________\n",
            "conv2d_29 (Conv2D)           (None, 250, 250, 32)      9248      \n",
            "_________________________________________________________________\n",
            "max_pooling2d_9 (MaxPooling2 (None, 125, 125, 32)      0         \n",
            "_________________________________________________________________\n",
            "batch_normalization_7 (Batch (None, 125, 125, 32)      128       \n",
            "_________________________________________________________________\n",
            "conv2d_30 (Conv2D)           (None, 123, 123, 48)      13872     \n",
            "_________________________________________________________________\n",
            "conv2d_31 (Conv2D)           (None, 121, 121, 48)      20784     \n",
            "_________________________________________________________________\n",
            "max_pooling2d_10 (MaxPooling (None, 60, 60, 48)        0         \n",
            "_________________________________________________________________\n",
            "batch_normalization_8 (Batch (None, 60, 60, 48)        192       \n",
            "_________________________________________________________________\n",
            "conv2d_32 (Conv2D)           (None, 58, 58, 64)        27712     \n",
            "_________________________________________________________________\n",
            "conv2d_33 (Conv2D)           (None, 56, 56, 64)        36928     \n",
            "_________________________________________________________________\n",
            "max_pooling2d_11 (MaxPooling (None, 28, 28, 64)        0         \n",
            "_________________________________________________________________\n",
            "batch_normalization_9 (Batch (None, 28, 28, 64)        256       \n",
            "_________________________________________________________________\n",
            "conv2d_34 (Conv2D)           (None, 26, 26, 72)        41544     \n",
            "_________________________________________________________________\n",
            "conv2d_35 (Conv2D)           (None, 24, 24, 72)        46728     \n",
            "_________________________________________________________________\n",
            "max_pooling2d_12 (MaxPooling (None, 12, 12, 72)        0         \n",
            "_________________________________________________________________\n",
            "conv2d_36 (Conv2D)           (None, 10, 10, 72)        46728     \n",
            "_________________________________________________________________\n",
            "conv2d_37 (Conv2D)           (None, 8, 8, 72)          46728     \n",
            "_________________________________________________________________\n",
            "conv2d_38 (Conv2D)           (None, 6, 6, 80)          51920     \n",
            "_________________________________________________________________\n",
            "conv2d_39 (Conv2D)           (None, 1, 1, 3)           8643      \n",
            "_________________________________________________________________\n",
            "flatten_3 (Flatten)          (None, 3)                 0         \n",
            "_________________________________________________________________\n",
            "activation_3 (Activation)    (None, 3)                 0         \n",
            "=================================================================\n",
            "Total params: 356,499\n",
            "Trainable params: 356,211\n",
            "Non-trainable params: 288\n",
            "_________________________________________________________________\n"
          ],
          "name": "stdout"
        }
      ]
    },
    {
      "metadata": {
        "id": "nl7eeoCG97PA",
        "colab_type": "code",
        "colab": {}
      },
      "cell_type": "code",
      "source": [
        "model.compile(optimizer='adadelta',loss='categorical_crossentropy',metrics=['accuracy'])"
      ],
      "execution_count": 0,
      "outputs": []
    },
    {
      "metadata": {
        "id": "Yz0YBLFf-RMP",
        "colab_type": "code",
        "outputId": "2407a52e-6089-4982-fffc-1a62a66f6ae9",
        "colab": {
          "base_uri": "https://localhost:8080/",
          "height": 353
        }
      },
      "cell_type": "code",
      "source": [
        "m=model.fit_generator(img, epochs=10,steps_per_epoch=500,validation_data=img_test,validation_steps=640)"
      ],
      "execution_count": 0,
      "outputs": [
        {
          "output_type": "stream",
          "text": [
            "Epoch 1/10\n",
            "500/500 [==============================] - 519s 1s/step - loss: 1.0009 - acc: 0.4821 - val_loss: 1.2062 - val_acc: 0.5000\n",
            "Epoch 2/10\n",
            "500/500 [==============================] - 513s 1s/step - loss: 0.3916 - acc: 0.8440 - val_loss: 2.2230 - val_acc: 0.5733\n",
            "Epoch 3/10\n",
            "500/500 [==============================] - 521s 1s/step - loss: 0.0632 - acc: 0.9802 - val_loss: 1.7160 - val_acc: 0.6867\n",
            "Epoch 4/10\n",
            "500/500 [==============================] - 516s 1s/step - loss: 0.0368 - acc: 0.9902 - val_loss: 2.2126 - val_acc: 0.6400\n",
            "Epoch 5/10\n",
            "500/500 [==============================] - 516s 1s/step - loss: 0.0243 - acc: 0.9922 - val_loss: 2.6185 - val_acc: 0.6667\n",
            "Epoch 6/10\n",
            "500/500 [==============================] - 515s 1s/step - loss: 0.0206 - acc: 0.9946 - val_loss: 2.5517 - val_acc: 0.6800\n",
            "Epoch 7/10\n",
            "500/500 [==============================] - 513s 1s/step - loss: 0.0072 - acc: 0.9980 - val_loss: 2.7261 - val_acc: 0.6600\n",
            "Epoch 8/10\n",
            "500/500 [==============================] - 516s 1s/step - loss: 0.0150 - acc: 0.9961 - val_loss: 3.0071 - val_acc: 0.6733\n",
            "Epoch 9/10\n",
            "500/500 [==============================] - 513s 1s/step - loss: 0.0121 - acc: 0.9970 - val_loss: 3.3682 - val_acc: 0.6333\n",
            "Epoch 10/10\n",
            "500/500 [==============================] - 492s 984ms/step - loss: 0.0288 - acc: 0.9931 - val_loss: 2.9874 - val_acc: 0.6467\n"
          ],
          "name": "stdout"
        }
      ]
    },
    {
      "metadata": {
        "id": "Ev7de5jO_FPP",
        "colab_type": "code",
        "outputId": "23907698-b316-4be8-eedd-d1819272f08e",
        "colab": {
          "base_uri": "https://localhost:8080/",
          "height": 34
        }
      },
      "cell_type": "code",
      "source": [
        "scores = model.evaluate_generator(img_test, steps=1000, verbose=1)"
      ],
      "execution_count": 0,
      "outputs": [
        {
          "output_type": "stream",
          "text": [
            "1000/1000 [==============================] - 340s 340ms/step\n"
          ],
          "name": "stdout"
        }
      ]
    },
    {
      "metadata": {
        "id": "5xzP8HAjgv9Q",
        "colab_type": "code",
        "outputId": "c8c52264-61c3-4f4a-eab3-6cc17ae83f10",
        "colab": {
          "base_uri": "https://localhost:8080/",
          "height": 34
        }
      },
      "cell_type": "code",
      "source": [
        "print(\"Accuracy is %s\" %(scores[1]*100))"
      ],
      "execution_count": 0,
      "outputs": [
        {
          "output_type": "stream",
          "text": [
            "Accuracy is 64.68666661123434\n"
          ],
          "name": "stdout"
        }
      ]
    },
    {
      "metadata": {
        "id": "n-eo1jXBH2np",
        "colab_type": "code",
        "colab": {}
      },
      "cell_type": "code",
      "source": [
        "from sklearn.metrics import confusion_matrix\n",
        "from sklearn.metrics import accuracy_score\n",
        "from sklearn.metrics import classification_report\n",
        "from sklearn import metrics\n",
        "Y_pred = model.predict_generator(img_test, steps=5)\n",
        "y_pred = np.argmax(Y_pred,axis=1)"
      ],
      "execution_count": 0,
      "outputs": []
    },
    {
      "metadata": {
        "id": "RhzxbGbZRoyw",
        "colab_type": "code",
        "outputId": "d91eeec7-e131-4c70-9e89-281d26c749e0",
        "colab": {
          "base_uri": "https://localhost:8080/",
          "height": 269
        }
      },
      "cell_type": "code",
      "source": [
        "\n",
        "print(\"Confusion Metrix\")\n",
        "print(metrics.confusion_matrix(img_test.classes, y_pred))\n",
        "print(\"Classification Report\")\n",
        "print(metrics.classification_report(img_test.classes, y_pred))\n",
        "\n"
      ],
      "execution_count": 0,
      "outputs": [
        {
          "output_type": "stream",
          "text": [
            "Confusion Metrix\n",
            "[[14 18 18]\n",
            " [23  7 20]\n",
            " [13 14 23]]\n",
            "Classification Report\n",
            "              precision    recall  f1-score   support\n",
            "\n",
            "           0       0.28      0.28      0.28        50\n",
            "           1       0.18      0.14      0.16        50\n",
            "           2       0.38      0.46      0.41        50\n",
            "\n",
            "   micro avg       0.29      0.29      0.29       150\n",
            "   macro avg       0.28      0.29      0.28       150\n",
            "weighted avg       0.28      0.29      0.28       150\n",
            "\n"
          ],
          "name": "stdout"
        }
      ]
    },
    {
      "metadata": {
        "id": "-63NL5wDBof3",
        "colab_type": "code",
        "colab": {}
      },
      "cell_type": "code",
      "source": [
        "from keras.models import model_from_yaml"
      ],
      "execution_count": 0,
      "outputs": []
    },
    {
      "metadata": {
        "id": "skSaym53BzED",
        "colab_type": "code",
        "outputId": "4ac693e7-d8c0-4d6a-fa6f-a0aa7ec8d76a",
        "colab": {
          "base_uri": "https://localhost:8080/",
          "height": 34
        }
      },
      "cell_type": "code",
      "source": [
        "model_yaml = model.to_yaml()\n",
        "with open(\"model.yaml\", \"w\") as yaml_file:\n",
        "  yaml_file.write(model_yaml)\n",
        "model.save_weights(\"model.h5\")\n",
        "print(\"Saved model\")"
      ],
      "execution_count": 0,
      "outputs": [
        {
          "output_type": "stream",
          "text": [
            "Saved model\n"
          ],
          "name": "stdout"
        }
      ]
    }
  ]
}